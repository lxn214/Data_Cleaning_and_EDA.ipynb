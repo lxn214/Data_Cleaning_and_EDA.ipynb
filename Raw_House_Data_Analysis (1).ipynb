{
  "nbformat": 4,
  "nbformat_minor": 5,
  "metadata": {
    "noteable-chatgpt": {
      "create_notebook": {
        "openai_conversation_id": "ce7a30ec-4843-5097-8539-74943c90a8aa",
        "openai_ephemeral_user_id": "d3216805-3070-50ae-90b9-d10904c03600",
        "openai_subdivision1_iso_code": "GB-SCT"
      }
    },
    "kernel_info": {
      "name": "python3"
    },
    "kernelspec": {
      "display_name": "Python 3.9",
      "language": "python",
      "name": "python3"
    },
    "selected_hardware_size": "small"
  },
  "cells": [
    {
      "id": "02acbc93-55cc-4d41-85b8-b1a1f1c2e35c",
      "cell_type": "code",
      "metadata": {
        "jupyter": {
          "outputs_hidden": false,
          "source_hidden": false
        },
        "noteable": {
          "cell_type": "code"
        }
      },
      "execution_count": null,
      "source": "",
      "outputs": []
    },
    {
      "id": "73fcda04-2172-467d-a39c-42033b9dbf23",
      "cell_type": "code",
      "metadata": {
        "jupyter": {
          "outputs_hidden": false,
          "source_hidden": false
        },
        "noteable": {
          "cell_type": "code"
        }
      },
      "execution_count": null,
      "source": "",
      "outputs": []
    },
    {
      "id": "f095d808-6715-49c5-8ca0-937c8813dcab",
      "cell_type": "code",
      "metadata": {
        "jupyter": {
          "outputs_hidden": false,
          "source_hidden": false
        },
        "noteable": {
          "cell_type": "code"
        }
      },
      "execution_count": null,
      "source": "",
      "outputs": []
    },
    {
      "id": "eaf4c7c9-1f17-451f-ac69-b123bd5976c4",
      "cell_type": "code",
      "metadata": {
        "noteable": {
          "cell_type": "code",
          "output_collection_id": "3d853120-f23e-4909-af5c-0a98f3c51210"
        },
        "ExecuteTime": {
          "end_time": "2023-09-06T16:06:10.624071+00:00",
          "start_time": "2023-09-06T16:06:09.976423+00:00"
        },
        "datalink": {
          "176afe05-cc5b-4d2b-8695-8c1ccf6e8b94": {
            "applied_filters": [],
            "dataframe_info": {
              "default_index_used": true,
              "orig_num_cols": 16,
              "orig_num_rows": 5,
              "orig_size_bytes": 680,
              "truncated_num_cols": 16,
              "truncated_num_rows": 5,
              "truncated_size_bytes": 680,
              "truncated_string_columns": []
            },
            "display_id": "176afe05-cc5b-4d2b-8695-8c1ccf6e8b94",
            "dx_settings": {
              "ALLOW_NOTEABLE_ATTRS": true,
              "COLUMN_SAMPLING_METHOD": "outer",
              "DB_LOCATION": ":memory:",
              "DEV_MODE": false,
              "DISPLAY_MAX_COLUMNS": 100,
              "DISPLAY_MAX_ROWS": 50000,
              "DISPLAY_MODE": "simple",
              "ENABLE_ASSIGNMENT": true,
              "ENABLE_DATALINK": true,
              "FLATTEN_COLUMN_VALUES": true,
              "FLATTEN_INDEX_VALUES": false,
              "GENERATE_DEX_METADATA": false,
              "HTML_TABLE_SCHEMA": false,
              "LOG_LEVEL": 30,
              "MAX_RENDER_SIZE_BYTES": 104857600,
              "MAX_STRING_LENGTH": 250,
              "NUM_PAST_SAMPLES_TRACKED": 3,
              "RANDOM_STATE": 12648430,
              "RESET_INDEX_VALUES": false,
              "ROW_SAMPLING_METHOD": "random",
              "SAMPLING_FACTOR": 0.1,
              "SAMPLING_METHOD": "random",
              "STRINGIFY_COLUMN_VALUES": true,
              "STRINGIFY_INDEX_VALUES": false
            },
            "sample_history": [],
            "sampling_time": "2023-09-06T16:06:10.458541",
            "user_variable_name": null,
            "variable_name": "unk_dataframe_8220c067d1d945e3a8de27c459b7a2d8"
          }
        }
      },
      "execution_count": null,
      "source": "import pandas as pd\nimport matplotlib.pyplot as plt\nimport seaborn as sns\n# Import the raw house data into a DataFrame\nhouse_data = pd.read_csv('raw_house_data - raw_house_data.csv')\nhouse_data.head()",
      "outputs": []
    },
    {
      "id": "ebbea633-9f9a-4720-b600-4ffa1327ddd6",
      "cell_type": "markdown",
      "source": "## Exploratory Data Analysis (EDA)",
      "metadata": {
        "noteable": {
          "cell_type": "markdown"
        }
      }
    },
    {
      "id": "08eade4c-b065-4aed-a9f2-b6106621138f",
      "cell_type": "code",
      "metadata": {
        "noteable": {
          "cell_type": "code",
          "output_collection_id": "fe35d8a2-358b-482a-84bd-934c477a9159"
        },
        "ExecuteTime": {
          "end_time": "2023-09-06T16:07:08.079919+00:00",
          "start_time": "2023-09-06T16:07:07.885388+00:00"
        },
        "datalink": {
          "7b40d280-d2fd-4625-b308-bd58d400fc10": {
            "applied_filters": [],
            "dataframe_info": {
              "default_index_used": false,
              "orig_num_cols": 1,
              "orig_num_rows": 16,
              "orig_size_bytes": 256,
              "truncated_num_cols": 1,
              "truncated_num_rows": 16,
              "truncated_size_bytes": 256,
              "truncated_string_columns": []
            },
            "display_id": "7b40d280-d2fd-4625-b308-bd58d400fc10",
            "dx_settings": {
              "ALLOW_NOTEABLE_ATTRS": true,
              "COLUMN_SAMPLING_METHOD": "outer",
              "DB_LOCATION": ":memory:",
              "DEV_MODE": false,
              "DISPLAY_MAX_COLUMNS": 100,
              "DISPLAY_MAX_ROWS": 50000,
              "DISPLAY_MODE": "simple",
              "ENABLE_ASSIGNMENT": true,
              "ENABLE_DATALINK": true,
              "FLATTEN_COLUMN_VALUES": true,
              "FLATTEN_INDEX_VALUES": false,
              "GENERATE_DEX_METADATA": false,
              "HTML_TABLE_SCHEMA": false,
              "LOG_LEVEL": 30,
              "MAX_RENDER_SIZE_BYTES": 104857600,
              "MAX_STRING_LENGTH": 250,
              "NUM_PAST_SAMPLES_TRACKED": 3,
              "RANDOM_STATE": 12648430,
              "RESET_INDEX_VALUES": false,
              "ROW_SAMPLING_METHOD": "random",
              "SAMPLING_FACTOR": 0.1,
              "SAMPLING_METHOD": "random",
              "STRINGIFY_COLUMN_VALUES": true,
              "STRINGIFY_INDEX_VALUES": false
            },
            "sample_history": [],
            "sampling_time": "2023-09-06T16:07:07.921628",
            "user_variable_name": "missing_values",
            "variable_name": "missing_values"
          }
        }
      },
      "execution_count": null,
      "source": "# Checking for missing values\nmissing_values = house_data.isnull().sum()\nmissing_values",
      "outputs": []
    },
    {
      "id": "e2bf8ead-52b2-47ea-9f70-16c03de68e89",
      "cell_type": "markdown",
      "source": "### Missing Values Analysis\nNo missing values were found in the dataset. This is excellent as it simplifies the preprocessing stage.",
      "metadata": {
        "noteable": {
          "cell_type": "markdown"
        }
      }
    },
    {
      "id": "28768945-f4ec-4453-b780-72dc20df357f",
      "cell_type": "code",
      "metadata": {
        "noteable": {
          "cell_type": "code",
          "output_collection_id": "8eea26e1-205c-4460-bf1b-fce33093bb0c"
        },
        "ExecuteTime": {
          "end_time": "2023-09-06T16:07:31.680259+00:00",
          "start_time": "2023-09-06T16:07:31.474838+00:00"
        },
        "datalink": {
          "0d01585b-9f6f-45cf-9f95-4a7519c7f068": {
            "applied_filters": [],
            "dataframe_info": {
              "default_index_used": false,
              "orig_num_cols": 1,
              "orig_num_rows": 16,
              "orig_size_bytes": 256,
              "truncated_num_cols": 1,
              "truncated_num_rows": 16,
              "truncated_size_bytes": 256,
              "truncated_string_columns": []
            },
            "display_id": "0d01585b-9f6f-45cf-9f95-4a7519c7f068",
            "dx_settings": {
              "ALLOW_NOTEABLE_ATTRS": true,
              "COLUMN_SAMPLING_METHOD": "outer",
              "DB_LOCATION": ":memory:",
              "DEV_MODE": false,
              "DISPLAY_MAX_COLUMNS": 100,
              "DISPLAY_MAX_ROWS": 50000,
              "DISPLAY_MODE": "simple",
              "ENABLE_ASSIGNMENT": true,
              "ENABLE_DATALINK": true,
              "FLATTEN_COLUMN_VALUES": true,
              "FLATTEN_INDEX_VALUES": false,
              "GENERATE_DEX_METADATA": false,
              "HTML_TABLE_SCHEMA": false,
              "LOG_LEVEL": 30,
              "MAX_RENDER_SIZE_BYTES": 104857600,
              "MAX_STRING_LENGTH": 250,
              "NUM_PAST_SAMPLES_TRACKED": 3,
              "RANDOM_STATE": 12648430,
              "RESET_INDEX_VALUES": false,
              "ROW_SAMPLING_METHOD": "random",
              "SAMPLING_FACTOR": 0.1,
              "SAMPLING_METHOD": "random",
              "STRINGIFY_COLUMN_VALUES": true,
              "STRINGIFY_INDEX_VALUES": false
            },
            "sample_history": [],
            "sampling_time": "2023-09-06T16:07:31.522230",
            "user_variable_name": "data_types",
            "variable_name": "data_types"
          }
        }
      },
      "execution_count": null,
      "source": "# Checking data types\ndata_types = house_data.dtypes\ndata_types",
      "outputs": []
    },
    {
      "id": "2cd4041d-ad52-4abe-96e0-7b1329d06523",
      "cell_type": "markdown",
      "source": "### Data Types Analysis\nMost columns have the expected data types (numerical or float). However, some columns like 'bathrooms', 'sqrt_ft', 'garage', and 'HOA' are of object type. These should be converted to numerical types for modeling. We'll also explore these columns to understand why they are of object type.",
      "metadata": {
        "noteable": {
          "cell_type": "markdown"
        }
      }
    },
    {
      "id": "3935f24a-c785-4bd1-98b0-337d74c872f8",
      "cell_type": "code",
      "metadata": {
        "noteable": {
          "cell_type": "code",
          "output_collection_id": "910aaa5b-051e-4b61-a2fe-4e062523bac3"
        },
        "ExecuteTime": {
          "end_time": "2023-09-06T16:07:59.403196+00:00",
          "start_time": "2023-09-06T16:07:59.192485+00:00"
        },
        "datalink": {
          "24d37021-dd42-4dcb-a8be-475b5af4f8fa": {
            "applied_filters": [],
            "dataframe_info": {
              "default_index_used": true,
              "orig_num_cols": 4,
              "orig_num_rows": 10,
              "orig_size_bytes": 400,
              "truncated_num_cols": 4,
              "truncated_num_rows": 10,
              "truncated_size_bytes": 400,
              "truncated_string_columns": []
            },
            "display_id": "24d37021-dd42-4dcb-a8be-475b5af4f8fa",
            "dx_settings": {
              "ALLOW_NOTEABLE_ATTRS": true,
              "COLUMN_SAMPLING_METHOD": "outer",
              "DB_LOCATION": ":memory:",
              "DEV_MODE": false,
              "DISPLAY_MAX_COLUMNS": 100,
              "DISPLAY_MAX_ROWS": 50000,
              "DISPLAY_MODE": "simple",
              "ENABLE_ASSIGNMENT": true,
              "ENABLE_DATALINK": true,
              "FLATTEN_COLUMN_VALUES": true,
              "FLATTEN_INDEX_VALUES": false,
              "GENERATE_DEX_METADATA": false,
              "HTML_TABLE_SCHEMA": false,
              "LOG_LEVEL": 30,
              "MAX_RENDER_SIZE_BYTES": 104857600,
              "MAX_STRING_LENGTH": 250,
              "NUM_PAST_SAMPLES_TRACKED": 3,
              "RANDOM_STATE": 12648430,
              "RESET_INDEX_VALUES": false,
              "ROW_SAMPLING_METHOD": "random",
              "SAMPLING_FACTOR": 0.1,
              "SAMPLING_METHOD": "random",
              "STRINGIFY_COLUMN_VALUES": true,
              "STRINGIFY_INDEX_VALUES": false
            },
            "sample_history": [],
            "sampling_time": "2023-09-06T16:07:59.244490",
            "user_variable_name": null,
            "variable_name": "unk_dataframe_85766f35e0464a7aa64140a95b957244"
          }
        }
      },
      "execution_count": null,
      "source": "# Exploring columns with object data types\nobject_columns = ['bathrooms', 'sqrt_ft', 'garage', 'HOA']\nhouse_data[object_columns].sample(10)",
      "outputs": []
    },
    {
      "id": "d645d139-c70b-473a-9f8c-a3786983efc8",
      "cell_type": "markdown",
      "source": "### Object Columns Analysis\nUpon sampling the data, it appears that the columns 'bathrooms', 'sqrt_ft', 'garage', and 'HOA' contain numerical values but are stored as object types. This could be due to the presence of special characters or 'None' values in these columns. We should convert these to appropriate numerical types after handling any such special cases.",
      "metadata": {
        "noteable": {
          "cell_type": "markdown"
        }
      }
    },
    {
      "id": "c2a82a93-ec09-448b-9501-85fee311b4bc",
      "cell_type": "code",
      "metadata": {
        "noteable": {
          "cell_type": "code",
          "output_collection_id": "91f3130a-befc-4d55-a914-a6cc774b0d06"
        },
        "ExecuteTime": {
          "end_time": "2023-09-06T16:08:30.087491+00:00",
          "start_time": "2023-09-06T16:08:29.871747+00:00"
        },
        "datalink": {
          "c8be843b-cd12-4e89-804a-3c92948dc9a1": {
            "applied_filters": [],
            "dataframe_info": {
              "default_index_used": false,
              "orig_num_cols": 1,
              "orig_num_rows": 16,
              "orig_size_bytes": 256,
              "truncated_num_cols": 1,
              "truncated_num_rows": 16,
              "truncated_size_bytes": 256,
              "truncated_string_columns": []
            },
            "display_id": "c8be843b-cd12-4e89-804a-3c92948dc9a1",
            "dx_settings": {
              "ALLOW_NOTEABLE_ATTRS": true,
              "COLUMN_SAMPLING_METHOD": "outer",
              "DB_LOCATION": ":memory:",
              "DEV_MODE": false,
              "DISPLAY_MAX_COLUMNS": 100,
              "DISPLAY_MAX_ROWS": 50000,
              "DISPLAY_MODE": "simple",
              "ENABLE_ASSIGNMENT": true,
              "ENABLE_DATALINK": true,
              "FLATTEN_COLUMN_VALUES": true,
              "FLATTEN_INDEX_VALUES": false,
              "GENERATE_DEX_METADATA": false,
              "HTML_TABLE_SCHEMA": false,
              "LOG_LEVEL": 30,
              "MAX_RENDER_SIZE_BYTES": 104857600,
              "MAX_STRING_LENGTH": 250,
              "NUM_PAST_SAMPLES_TRACKED": 3,
              "RANDOM_STATE": 12648430,
              "RESET_INDEX_VALUES": false,
              "ROW_SAMPLING_METHOD": "random",
              "SAMPLING_FACTOR": 0.1,
              "SAMPLING_METHOD": "random",
              "STRINGIFY_COLUMN_VALUES": true,
              "STRINGIFY_INDEX_VALUES": false
            },
            "sample_history": [],
            "sampling_time": "2023-09-06T16:08:29.929955",
            "user_variable_name": null,
            "variable_name": "unk_dataframe_a757b21b93a64aa19ca1162587c9b46b"
          }
        }
      },
      "execution_count": null,
      "source": "# Converting object columns to numerical types\nfor col in object_columns:\n    house_data[col] = pd.to_numeric(house_data[col], errors='coerce')\n# Checking data types again\nhouse_data.dtypes",
      "outputs": []
    },
    {
      "id": "fb583c3f-21e1-4a61-9594-4cb92d70d5cc",
      "cell_type": "markdown",
      "source": "### Data Type Conversion\nThe columns 'bathrooms', 'sqrt_ft', 'garage', and 'HOA' have been successfully converted to numerical types. This will facilitate the modeling process.",
      "metadata": {
        "noteable": {
          "cell_type": "markdown"
        }
      }
    },
    {
      "id": "c98ac35d-0cab-4b86-87a0-09b364dba7ff",
      "cell_type": "code",
      "metadata": {
        "noteable": {
          "cell_type": "code",
          "output_collection_id": "6f2d7219-7a4e-453e-8a65-4dbd7f7a180d"
        },
        "ExecuteTime": {
          "end_time": "2023-09-06T16:08:52.752688+00:00",
          "start_time": "2023-09-06T16:08:52.514382+00:00"
        },
        "datalink": {
          "d83a6a79-aa67-4825-a32f-95ccb90330d5": {
            "applied_filters": [],
            "dataframe_info": {
              "default_index_used": false,
              "orig_num_cols": 14,
              "orig_num_rows": 8,
              "orig_size_bytes": 960,
              "truncated_num_cols": 14,
              "truncated_num_rows": 8,
              "truncated_size_bytes": 960,
              "truncated_string_columns": []
            },
            "display_id": "d83a6a79-aa67-4825-a32f-95ccb90330d5",
            "dx_settings": {
              "ALLOW_NOTEABLE_ATTRS": true,
              "COLUMN_SAMPLING_METHOD": "outer",
              "DB_LOCATION": ":memory:",
              "DEV_MODE": false,
              "DISPLAY_MAX_COLUMNS": 100,
              "DISPLAY_MAX_ROWS": 50000,
              "DISPLAY_MODE": "simple",
              "ENABLE_ASSIGNMENT": true,
              "ENABLE_DATALINK": true,
              "FLATTEN_COLUMN_VALUES": true,
              "FLATTEN_INDEX_VALUES": false,
              "GENERATE_DEX_METADATA": false,
              "HTML_TABLE_SCHEMA": false,
              "LOG_LEVEL": 30,
              "MAX_RENDER_SIZE_BYTES": 104857600,
              "MAX_STRING_LENGTH": 250,
              "NUM_PAST_SAMPLES_TRACKED": 3,
              "RANDOM_STATE": 12648430,
              "RESET_INDEX_VALUES": false,
              "ROW_SAMPLING_METHOD": "random",
              "SAMPLING_FACTOR": 0.1,
              "SAMPLING_METHOD": "random",
              "STRINGIFY_COLUMN_VALUES": true,
              "STRINGIFY_INDEX_VALUES": false
            },
            "sample_history": [],
            "sampling_time": "2023-09-06T16:08:52.591864",
            "user_variable_name": null,
            "variable_name": "unk_dataframe_fa40a7f5267c4be1b83bb187578d7022"
          }
        }
      },
      "execution_count": null,
      "source": "# Summary statistics of the dataset\nhouse_data.describe()",
      "outputs": []
    },
    {
      "id": "60fc50c2-a86d-4d83-9ceb-affd2e672f30",
      "cell_type": "markdown",
      "source": "### Summary Statistics\nThe summary statistics provide the following insights:\n- The average sold price is around $675,000 with a standard deviation of approximately $318,556.\n- Most houses have 4 bedrooms and 4 bathrooms.\n- The average square footage is around 3512 sq ft.\n- The dataset spans various zip codes, with the most common being 85737.\n- The average year the houses were built is 1999.\n- HOA fees vary widely, with an average of $55.\nThese statistics will help the modeling team understand the central tendencies and spread of the data.",
      "metadata": {
        "noteable": {
          "cell_type": "markdown"
        }
      }
    },
    {
      "id": "9388337b-04f0-4dcb-9fed-9b0df855bd6f",
      "cell_type": "code",
      "metadata": {
        "noteable": {
          "cell_type": "code",
          "output_collection_id": "25021af4-3f12-4d48-8300-b4c87eb54fb4"
        },
        "ExecuteTime": {
          "end_time": "2023-09-06T16:09:31.827483+00:00",
          "start_time": "2023-09-06T16:09:30.901341+00:00"
        }
      },
      "execution_count": null,
      "source": "# Visualizing the data\nplt.figure(figsize=(12, 8))\nsns.heatmap(house_data.corr(), annot=True, cmap='coolwarm')\nplt.title('Correlation Heatmap')\nplt.show()",
      "outputs": []
    },
    {
      "id": "45ef39dd-2a67-49e6-a72f-f19f3e3c3975",
      "cell_type": "markdown",
      "source": "### Correlation Heatmap\nThe heatmap shows the correlation between different numerical features in the dataset. Some key observations are:\n- 'sold_price' has a moderate positive correlation with 'sqrt_ft' and 'bathrooms', which makes sense as larger houses with more bathrooms are generally more expensive.\n- 'year_built' has a slight negative correlation with 'zipcode', indicating that newer houses might be in higher-numbered zip codes.\n- 'latitude' and 'longitude' have low correlations with most other features, suggesting they might not be very useful for predictive modeling.\nThese insights will be valuable for feature selection during the modeling phase.",
      "metadata": {
        "noteable": {
          "cell_type": "markdown"
        }
      }
    },
    {
      "id": "b82476d0-e235-4581-b401-8e9417a7c865",
      "cell_type": "markdown",
      "source": "## Data Cleaning and Preprocessing\nBased on the EDA, the following steps are taken for data cleaning and preprocessing:\n1. No missing values were found, so no imputation is needed.\n2. Converted object data types to numerical types for 'bathrooms', 'sqrt_ft', 'garage', and 'HOA'.\n3. Checked for correlations and identified key features for modeling.\nThe dataset is now ready for the modeling team.",
      "metadata": {
        "noteable": {
          "cell_type": "markdown"
        }
      }
    },
    {
      "id": "2398a7bb-4a0c-41c8-ac81-e63700b00397",
      "cell_type": "code",
      "metadata": {
        "noteable": {
          "cell_type": "code",
          "output_collection_id": "11e9a642-6b4b-4d9d-b466-ec3ff3fde60b"
        },
        "ExecuteTime": {
          "end_time": "2023-09-06T16:14:14.633498+00:00",
          "start_time": "2023-09-06T16:14:13.045879+00:00"
        }
      },
      "execution_count": null,
      "source": "# Plotting histograms for numerical features\nhouse_data.hist(figsize=(16, 12), bins=20)\nplt.suptitle('Feature Histograms')\nplt.show()",
      "outputs": []
    },
    {
      "id": "4637edf4-eb06-43b4-ab1d-7a4f03d9854b",
      "cell_type": "code",
      "metadata": {
        "noteable": {
          "cell_type": "code",
          "output_collection_id": "072f4377-b250-4107-9c32-e8c0f5ace418"
        },
        "ExecuteTime": {
          "end_time": "2023-09-06T16:14:36.803727+00:00",
          "start_time": "2023-09-06T16:14:35.336338+00:00"
        }
      },
      "execution_count": null,
      "source": "# Plotting histograms for numerical features\nhouse_data.hist(figsize=(16, 12), bins=20)\nplt.suptitle('Feature Histograms')\nplt.show()",
      "outputs": []
    },
    {
      "id": "8e26c7b3-f2f5-4e94-985d-abc7939109ea",
      "cell_type": "code",
      "metadata": {
        "noteable": {
          "cell_type": "code",
          "output_collection_id": "7a0e7a70-d944-4229-aac9-eee3b93d9a86"
        },
        "ExecuteTime": {
          "end_time": "2023-09-06T16:16:21.656249+00:00",
          "start_time": "2023-09-06T16:16:21.134355+00:00"
        }
      },
      "execution_count": null,
      "source": "# Pie chart for bedrooms\nbedroom_counts = house_data['bedrooms'].value_counts()\nplt.figure(figsize=(10, 6))\nplt.pie(bedroom_counts, labels=bedroom_counts.index, autopct='%1.1f%%', startangle=90)\nplt.title('Distribution of Bedrooms')\nplt.axis('equal')\nplt.show()",
      "outputs": []
    },
    {
      "id": "a32b96da-8a4e-4942-bb0d-4638ab0a5d06",
      "cell_type": "code",
      "metadata": {
        "noteable": {
          "cell_type": "code",
          "output_collection_id": "3a2596a7-4a0a-4c8a-a72b-e3951999aea0"
        },
        "ExecuteTime": {
          "end_time": "2023-09-06T16:16:35.700500+00:00",
          "start_time": "2023-09-06T16:16:35.300106+00:00"
        }
      },
      "execution_count": null,
      "source": "# Histogram for sold_price\nplt.figure(figsize=(10, 6))\nsns.histplot(house_data['sold_price'], bins=30, kde=True)\nplt.title('Distribution of Sold Prices')\nplt.xlabel('Sold Price')\nplt.ylabel('Frequency')\nplt.show()",
      "outputs": []
    },
    {
      "id": "a58acd8c-5b91-4ae9-a767-fca3a8f0ad1c",
      "cell_type": "code",
      "metadata": {
        "noteable": {
          "cell_type": "code",
          "output_collection_id": "9b4f87a7-6b56-474a-89e7-5ed8a523fa7a"
        },
        "ExecuteTime": {
          "end_time": "2023-09-06T16:16:53.069470+00:00",
          "start_time": "2023-09-06T16:16:52.691652+00:00"
        }
      },
      "execution_count": null,
      "source": "# Pie chart for bathrooms\nbathroom_counts = house_data['bathrooms'].value_counts()\nplt.figure(figsize=(10, 6))\nplt.pie(bathroom_counts, labels=bathroom_counts.index, autopct='%1.1f%%', startangle=90)\nplt.title('Distribution of Bathrooms')\nplt.axis('equal')\nplt.show()",
      "outputs": []
    }
  ]
}