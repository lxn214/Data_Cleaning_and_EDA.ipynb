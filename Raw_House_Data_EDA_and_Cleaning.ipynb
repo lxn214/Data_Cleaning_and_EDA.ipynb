{
  "nbformat": 4,
  "nbformat_minor": 5,
  "metadata": {
    "noteable-chatgpt": {
      "create_notebook": {
        "openai_conversation_id": "ce7a30ec-4843-5097-8539-74943c90a8aa",
        "openai_ephemeral_user_id": "d3216805-3070-50ae-90b9-d10904c03600",
        "openai_subdivision1_iso_code": "GB-SCT"
      }
    },
    "kernel_info": {
      "name": "python3"
    },
    "kernelspec": {
      "display_name": "Python 3.9",
      "language": "python",
      "name": "python3"
    },
    "selected_hardware_size": "small"
  },
  "cells": [
    {
      "id": "7fba79d3-23a9-469c-846c-410eba821eb3",
      "cell_type": "code",
      "metadata": {
        "jupyter": {
          "outputs_hidden": false,
          "source_hidden": false
        },
        "noteable": {
          "cell_type": "code"
        }
      },
      "execution_count": null,
      "source": "",
      "outputs": []
    },
    {
      "id": "3ebc674b-6752-4d23-9d58-e547a34296c1",
      "cell_type": "code",
      "metadata": {
        "jupyter": {
          "outputs_hidden": false,
          "source_hidden": false
        },
        "noteable": {
          "cell_type": "code"
        }
      },
      "execution_count": null,
      "source": "",
      "outputs": []
    },
    {
      "id": "e95edff5-43da-4540-a5cf-f85194d8571c",
      "cell_type": "markdown",
      "source": "# Exploratory Data Analysis and Initial Cleaning for Raw House Data\nThis notebook aims to perform Exploratory Data Analysis (EDA) and initial cleaning on the raw house data. The goal is to prepare a cleaned dataset suitable for modeling. All steps are justified and documented for the modeling team.",
      "metadata": {
        "noteable": {
          "cell_type": "markdown"
        }
      }
    },
    {
      "id": "0898dd29-f7e9-472b-abc6-a6cdfb5fb254",
      "cell_type": "code",
      "metadata": {
        "noteable": {
          "cell_type": "code",
          "output_collection_id": "5eba9b10-0756-4ff2-a9d6-823f077d060c"
        },
        "ExecuteTime": {
          "end_time": "2023-09-06T16:01:47.399630+00:00",
          "start_time": "2023-09-06T16:01:46.722830+00:00"
        },
        "datalink": {
          "60e262bf-1552-4b9b-aa04-2b61d82c02a7": {
            "applied_filters": [],
            "dataframe_info": {
              "default_index_used": true,
              "orig_num_cols": 16,
              "orig_num_rows": 5,
              "orig_size_bytes": 680,
              "truncated_num_cols": 16,
              "truncated_num_rows": 5,
              "truncated_size_bytes": 680,
              "truncated_string_columns": []
            },
            "display_id": "60e262bf-1552-4b9b-aa04-2b61d82c02a7",
            "dx_settings": {
              "ALLOW_NOTEABLE_ATTRS": true,
              "COLUMN_SAMPLING_METHOD": "outer",
              "DB_LOCATION": ":memory:",
              "DEV_MODE": false,
              "DISPLAY_MAX_COLUMNS": 100,
              "DISPLAY_MAX_ROWS": 50000,
              "DISPLAY_MODE": "simple",
              "ENABLE_ASSIGNMENT": true,
              "ENABLE_DATALINK": true,
              "FLATTEN_COLUMN_VALUES": true,
              "FLATTEN_INDEX_VALUES": false,
              "GENERATE_DEX_METADATA": false,
              "HTML_TABLE_SCHEMA": false,
              "LOG_LEVEL": 30,
              "MAX_RENDER_SIZE_BYTES": 104857600,
              "MAX_STRING_LENGTH": 250,
              "NUM_PAST_SAMPLES_TRACKED": 3,
              "RANDOM_STATE": 12648430,
              "RESET_INDEX_VALUES": false,
              "ROW_SAMPLING_METHOD": "random",
              "SAMPLING_FACTOR": 0.1,
              "SAMPLING_METHOD": "random",
              "STRINGIFY_COLUMN_VALUES": true,
              "STRINGIFY_INDEX_VALUES": false
            },
            "sample_history": [],
            "sampling_time": "2023-09-06T16:01:47.231149",
            "user_variable_name": null,
            "variable_name": "unk_dataframe_8e765fc7c86e4d72a387b6544b04ebae"
          }
        }
      },
      "execution_count": null,
      "source": "import pandas as pd\nimport matplotlib.pyplot as plt\nimport seaborn as sns\n# Load the raw house data into a DataFrame\nhouse_data = pd.read_csv('raw_house_data - raw_house_data.csv')\n# Display the first few rows of the DataFrame\nhouse_data.head()",
      "outputs": []
    },
    {
      "id": "3cb2795f-2bf8-4a33-a1ce-c0507934318b",
      "cell_type": "markdown",
      "source": "## Initial Data Overview\nThe raw house data contains 16 columns and a sample of 5 rows has been displayed for initial inspection. The columns include various features such as MLS number, sold price, zipcode, longitude, latitude, lot acres, taxes, year built, number of bedrooms and bathrooms, square footage, garage details, kitchen features, number of fireplaces, floor covering, and HOA fees. Some columns have object data types that may need to be converted to numerical types for modeling.",
      "metadata": {
        "noteable": {
          "cell_type": "markdown"
        }
      }
    },
    {
      "id": "f9ed2133-e925-4352-a72b-b5e4672bd9d8",
      "cell_type": "code",
      "metadata": {
        "noteable": {
          "cell_type": "code",
          "output_collection_id": "26a0efcc-09ba-4108-bd1f-dc4a2704fcd1"
        },
        "ExecuteTime": {
          "end_time": "2023-09-06T16:02:19.958319+00:00",
          "start_time": "2023-09-06T16:02:19.778974+00:00"
        }
      },
      "execution_count": null,
      "source": "# Summary statistics for the numerical columns\nnumerical_summary = house_data.describe()\n# Checking for missing values in each column\nmissing_values = house_data.isnull().sum()\nnumerical_summary, missing_values",
      "outputs": []
    },
    {
      "id": "4bbce1c3-850a-4d05-b4ab-ff6286031392",
      "cell_type": "markdown",
      "source": "## Summary Statistics and Missing Values\nThe summary statistics for the numerical columns are displayed above. The dataset contains 5,000 rows. Some key observations are:\n- The `lot_acres` column has 10 missing values.\n- The `fireplaces` column has 25 missing values.\n- The `year_built` column has some entries with a value of 0, which is likely incorrect and needs further investigation.\n- The `taxes` column has a minimum value of 0, which also needs further investigation.\nNext, we will visualize the data to better understand its distribution and to identify any outliers.",
      "metadata": {
        "noteable": {
          "cell_type": "markdown"
        }
      }
    },
    {
      "id": "c1602eb5-b04d-4127-8ac4-15fdbc7bebae",
      "cell_type": "code",
      "metadata": {
        "noteable": {
          "cell_type": "code",
          "output_collection_id": "9e6c6cd5-c057-4cc6-a83a-bad19c02ca56"
        },
        "ExecuteTime": {
          "end_time": "2023-09-06T16:03:07.338569+00:00",
          "start_time": "2023-09-06T16:03:05.373936+00:00"
        }
      },
      "execution_count": null,
      "source": "# Visualizing the distribution of numerical columns\nnumerical_columns = ['sold_price', 'zipcode', 'longitude', 'latitude', 'lot_acres', 'taxes', 'year_built', 'bedrooms', 'fireplaces']\nplt.figure(figsize=(20, 15))\nfor i, col in enumerate(numerical_columns, 1):\n    plt.subplot(3, 3, i)\n    sns.histplot(house_data[col], bins=30, kde=True)\n    plt.title(f'Distribution of {col}')\n    plt.xlabel(col)\n    plt.ylabel('Frequency')\nplt.tight_layout()\nplt.show()",
      "outputs": []
    },
    {
      "id": "540c69f4-aca0-4df8-aa1e-c585c5bdd540",
      "cell_type": "markdown",
      "source": "## Data Distribution\nThe histograms above show the distribution of various numerical columns. Key observations include:\n- `sold_price`, `lot_acres`, and `taxes` are right-skewed, indicating the presence of outliers.\n- `year_built` has some entries close to 0, which are likely incorrect and need to be addressed.\n- `bedrooms` and `fireplaces` have a more or less normal distribution but with some outliers.\nNext, we will handle missing values and outliers.",
      "metadata": {
        "noteable": {
          "cell_type": "markdown"
        }
      }
    },
    {
      "id": "7cd9ee4c-7681-46c5-aefe-74630d64560d",
      "cell_type": "code",
      "metadata": {
        "noteable": {
          "cell_type": "code",
          "output_collection_id": "03577498-d9f9-4597-b99f-c18f952e268c"
        },
        "ExecuteTime": {
          "end_time": "2023-09-06T16:03:54.183709+00:00",
          "start_time": "2023-09-06T16:03:53.984924+00:00"
        },
        "datalink": {
          "5efafbab-45be-4b47-a584-0d69f8be8f59": {
            "applied_filters": [],
            "dataframe_info": {
              "default_index_used": false,
              "orig_num_cols": 1,
              "orig_num_rows": 16,
              "orig_size_bytes": 256,
              "truncated_num_cols": 1,
              "truncated_num_rows": 16,
              "truncated_size_bytes": 256,
              "truncated_string_columns": []
            },
            "display_id": "5efafbab-45be-4b47-a584-0d69f8be8f59",
            "dx_settings": {
              "ALLOW_NOTEABLE_ATTRS": true,
              "COLUMN_SAMPLING_METHOD": "outer",
              "DB_LOCATION": ":memory:",
              "DEV_MODE": false,
              "DISPLAY_MAX_COLUMNS": 100,
              "DISPLAY_MAX_ROWS": 50000,
              "DISPLAY_MODE": "simple",
              "ENABLE_ASSIGNMENT": true,
              "ENABLE_DATALINK": true,
              "FLATTEN_COLUMN_VALUES": true,
              "FLATTEN_INDEX_VALUES": false,
              "GENERATE_DEX_METADATA": false,
              "HTML_TABLE_SCHEMA": false,
              "LOG_LEVEL": 30,
              "MAX_RENDER_SIZE_BYTES": 104857600,
              "MAX_STRING_LENGTH": 250,
              "NUM_PAST_SAMPLES_TRACKED": 3,
              "RANDOM_STATE": 12648430,
              "RESET_INDEX_VALUES": false,
              "ROW_SAMPLING_METHOD": "random",
              "SAMPLING_FACTOR": 0.1,
              "SAMPLING_METHOD": "random",
              "STRINGIFY_COLUMN_VALUES": true,
              "STRINGIFY_INDEX_VALUES": false
            },
            "sample_history": [],
            "sampling_time": "2023-09-06T16:03:54.026268",
            "user_variable_name": null,
            "variable_name": "unk_dataframe_72733ff1d00b4d5fa3be83d2f800f7ed"
          }
        }
      },
      "execution_count": null,
      "source": "# Handling Missing Values\n# Replacing missing values in 'lot_acres' and 'fireplaces' with their respective medians\nhouse_data['lot_acres'].fillna(house_data['lot_acres'].median(), inplace=True)\nhouse_data['fireplaces'].fillna(house_data['fireplaces'].median(), inplace=True)\n# Handling Outliers\n# Replacing 'year_built' values of 0 with the median year\nhouse_data['year_built'].replace(0, house_data['year_built'].median(), inplace=True)\n# Replacing 'taxes' values of 0 with the median tax value\nhouse_data['taxes'].replace(0, house_data['taxes'].median(), inplace=True)\n# Confirming that there are no more missing values\nhouse_data.isnull().sum()",
      "outputs": []
    },
    {
      "id": "9132d519-b1b8-4367-a7c6-63dae3ee0e9f",
      "cell_type": "markdown",
      "source": "## Handling Missing Values and Outliers\nMissing values and outliers have been addressed as follows:\n- Missing values in `lot_acres` and `fireplaces` have been replaced with their respective medians.\n- Outliers in `year_built` and `taxes` (values of 0) have been replaced with their respective medians.\nAfter these steps, the dataset has no missing values.\nThe cleaned dataset is now ready for further analysis and modeling. Below is a brief description of the cleaned dataset.",
      "metadata": {
        "noteable": {
          "cell_type": "markdown"
        }
      }
    },
    {
      "id": "8e6eebce-2f07-48ed-97e1-0144b3ea1f5d",
      "cell_type": "markdown",
      "source": "## Cleaned Dataset Description\nThe cleaned dataset contains 5,000 rows and 16 columns, capturing various features of houses. All missing values and outliers have been addressed. The dataset includes features such as MLS number, sold price, zipcode, longitude, latitude, lot acres, taxes, year built, number of bedrooms and bathrooms, square footage, garage details, kitchen features, number of fireplaces, floor covering, and HOA fees. The dataset is now ready for the modeling team.",
      "metadata": {
        "noteable": {
          "cell_type": "markdown"
        }
      }
    }
  ]
}